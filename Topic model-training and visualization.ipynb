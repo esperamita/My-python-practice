{
 "cells": [
  {
   "cell_type": "code",
   "execution_count": 1,
   "metadata": {},
   "outputs": [],
   "source": [
    "import pandas as pd\n",
    "import nltk\n",
    "from nltk.corpus import stopwords\n",
    "from gensim import corpora\n",
    "from gensim import models\n",
    "from gensim.models import LdaModel\n",
    "from gensim.models.coherencemodel import CoherenceModel\n",
    "from gensim.corpora import Dictionary\n",
    "import matplotlib.pyplot as plt\n",
    "import pyLDAvis\n",
    "import pyLDAvis.gensim\n",
    "import re\n",
    "# Tokenize the documents.\n",
    "from nltk.tokenize import RegexpTokenizer\n",
    "from nltk.stem.wordnet import WordNetLemmatizer"
   ]
  },
  {
   "cell_type": "code",
   "execution_count": 2,
   "metadata": {},
   "outputs": [
    {
     "data": {
      "text/plain": [
       "799"
      ]
     },
     "execution_count": 2,
     "metadata": {},
     "output_type": "execute_result"
    }
   ],
   "source": [
    "#import the data\n",
    "df = pd.read_csv(\"BabyCenter_ttc_q.csv\")\n",
    "len(df)"
   ]
  },
  {
   "cell_type": "code",
   "execution_count": 3,
   "metadata": {},
   "outputs": [],
   "source": [
    "def filter_str(desstr, restr=' '):\n",
    "    # remove characters except Chinese, English and numbers.\n",
    "    res = re.compile(\"[^\\\\u4e00-\\\\u9fa5^a-z^A-Z^0-9]\")\n",
    "    return res.sub(restr, desstr)"
   ]
  },
  {
   "cell_type": "code",
   "execution_count": 4,
   "metadata": {},
   "outputs": [
    {
     "data": {
      "text/plain": [
       "918"
      ]
     },
     "execution_count": 4,
     "metadata": {},
     "output_type": "execute_result"
    }
   ],
   "source": [
    "#set stop words\n",
    "stop_words = set(stopwords.words('english'))\n",
    "len(stop_words)\n",
    "\n",
    "cus_words = set()\n",
    "\n",
    "w = open(\"stopwords.txt\")# import local stop word lists\n",
    "line = w.readline()\n",
    "while line:\n",
    "    line = line.replace('\\n','')\n",
    "    cus_words.add(line)\n",
    "    line = w.readline()\n",
    "len(cus_words)\n",
    "\n",
    "stop_words = stop_words | set(cus_words)#merge cus_word and nltk.corpus.stopwords\n",
    "len(stop_words)"
   ]
  },
  {
   "cell_type": "code",
   "execution_count": 5,
   "metadata": {},
   "outputs": [],
   "source": [
    "#Clean the data\n",
    "\n",
    "text = []\n",
    "# Split the documents into tokens.\n",
    "tokenizer = RegexpTokenizer(r'\\w+')\n",
    "for i in range(len(df)):\n",
    "    lst = str(df.Content[i])\n",
    "    lst = lst.lower()\n",
    "    lst = tokenizer.tokenize(lst) \n",
    "    text.append(lst)\n",
    "# Remove numbers, but not words that contain numbers. Words like \"3weeks\" are remained.\n",
    "text = [[item for item in lst if not item.isnumeric()] for lst in text]\n",
    "# Remove words that are only one character.\n",
    "text = [[item for item in lst if len(item) > 1] for lst in text]\n",
    "# Remove words that are stop_words.\n",
    "text = [[item for item in lst if item not in stop_words]for lst in text]"
   ]
  },
  {
   "cell_type": "code",
   "execution_count": 6,
   "metadata": {},
   "outputs": [],
   "source": [
    "# Lemmatize all words in documents.\n",
    "lemmatizer = WordNetLemmatizer()\n",
    "text = [[lemmatizer.lemmatize(item) for item in lst] for lst in text]"
   ]
  },
  {
   "cell_type": "raw",
   "metadata": {},
   "source": [
    "# Compute bigrams. 处理效果不好，比如词A和词B在同一个主题内，有\"被组合为A_B\"和\"A和B分开统计\"两种情况。因此先放弃\n",
    "\n",
    "from gensim.models import Phrases\n",
    "\n",
    "# Add bigrams and trigrams to text (only ones that appear 100 times or more).\n",
    "bigram = Phrases(text, min_count=100)\n",
    "for i in range(len(text)):\n",
    "    for item in bigram[text[i]]:\n",
    "        if '_' in item:\n",
    "            # Token is a bigram, add to document.\n",
    "            text[i].append(item)\n",
    "text"
   ]
  },
  {
   "cell_type": "raw",
   "metadata": {},
   "source": [
    "如果处理的数据量上千，用上下限的方法删除词汇可以。这里数据量太小，只考虑通过停用词表（含有动词）删除单词\n",
    "# Filter out words that occur less than 20 documents, or more than 50% of the documents. \n",
    "dictionary.filter_extremes(no_below=20, no_above=0.5)"
   ]
  },
  {
   "cell_type": "code",
   "execution_count": 7,
   "metadata": {},
   "outputs": [],
   "source": [
    "# Create a dictionary representation of the documents.\n",
    "dictionary = Dictionary(text)\n",
    "\n",
    "# Get corpus.\n",
    "corpus = [dictionary.doc2bow(lst) for lst in text] "
   ]
  },
  {
   "cell_type": "code",
   "execution_count": 8,
   "metadata": {},
   "outputs": [
    {
     "name": "stdout",
     "output_type": "stream",
     "text": [
      "Number of unique tokens: 2996\n",
      "Number of documents: 799\n"
     ]
    }
   ],
   "source": [
    "print('Number of unique tokens: %d' % len(dictionary))\n",
    "print('Number of documents: %d' % len(corpus))"
   ]
  },
  {
   "cell_type": "raw",
   "metadata": {},
   "source": [
    "import logging\n",
    "logging.basicConfig(filename='lda_model.log', format='%(asctime)s : %(levelname)s : %(message)s', level=logging.INFO)"
   ]
  },
  {
   "cell_type": "code",
   "execution_count": 12,
   "metadata": {},
   "outputs": [
    {
     "name": "stdout",
     "output_type": "stream",
     "text": [
      "目前的topic个数:1\n",
      "目前的数据量:799\n",
      "./lda_ttc_q_20/lda_1_799.model\n",
      "------------------\n",
      "目前的topic个数:2\n",
      "目前的数据量:799\n",
      "./lda_ttc_q_20/lda_2_799.model\n",
      "------------------\n",
      "目前的topic个数:3\n",
      "目前的数据量:799\n",
      "./lda_ttc_q_20/lda_3_799.model\n",
      "------------------\n",
      "目前的topic个数:4\n",
      "目前的数据量:799\n",
      "./lda_ttc_q_20/lda_4_799.model\n",
      "------------------\n",
      "目前的topic个数:5\n",
      "目前的数据量:799\n",
      "./lda_ttc_q_20/lda_5_799.model\n",
      "------------------\n",
      "目前的topic个数:6\n",
      "目前的数据量:799\n",
      "./lda_ttc_q_20/lda_6_799.model\n",
      "------------------\n",
      "目前的topic个数:7\n",
      "目前的数据量:799\n",
      "./lda_ttc_q_20/lda_7_799.model\n",
      "------------------\n",
      "目前的topic个数:8\n",
      "目前的数据量:799\n",
      "./lda_ttc_q_20/lda_8_799.model\n",
      "------------------\n",
      "目前的topic个数:9\n",
      "目前的数据量:799\n",
      "./lda_ttc_q_20/lda_9_799.model\n",
      "------------------\n",
      "目前的topic个数:10\n",
      "目前的数据量:799\n",
      "./lda_ttc_q_20/lda_10_799.model\n",
      "------------------\n",
      "目前的topic个数:11\n",
      "目前的数据量:799\n",
      "./lda_ttc_q_20/lda_11_799.model\n",
      "------------------\n"
     ]
    }
   ],
   "source": [
    "for i in range(1,12):\n",
    "    print('目前的topic个数:{}'.format(i))\n",
    "    print('目前的数据量:{}'.format(len(text)))\n",
    "    temp = 'lda_{}_{}'.format(i,len(text))\n",
    "    lda = models.ldamodel.LdaModel(corpus, num_topics=i, id2word=dictionary, passes=20) #从log上看，20次足够了。\n",
    "    file_path = './lda_ttc_q_20/{}.model'.format(temp) #这句话的意思是“将模型训练结果放进根目录下名叫’lda_ttc_q_20‘的文件夹内。\n",
    "    print(file_path)\n",
    "    lda.save(file_path)\n",
    "    print('------------------')"
   ]
  },
  {
   "cell_type": "raw",
   "metadata": {},
   "source": [
    "**这段代码是写来找问题的，最后发现是我没导入CoherenceModel的包,以及coherence的参数应为u_mass而非c_v。代码必须每段话都理解含义后，才能灵活调用**\n",
    "from gensim.models.coherencemodel import CoherenceModel\n",
    "lda = models.ldamodel.LdaModel.load('./lda_1_498.model')\n",
    "cv_tmp = CoherenceModel(model=lda, corpus = corpus, dictionary = dictionary, coherence='u_mass')\n",
    "print(cv_tmp.get_coherence())"
   ]
  },
  {
   "cell_type": "code",
   "execution_count": 13,
   "metadata": {},
   "outputs": [
    {
     "name": "stdout",
     "output_type": "stream",
     "text": [
      "-6.7382430338984305\n",
      "-6.7642078098640885\n",
      "-6.788467399420577\n",
      "-6.818594150399599\n",
      "-6.8463096935011\n",
      "-6.861894794844836\n",
      "-6.876151583476572\n",
      "-6.909508154912868\n",
      "-6.914117979659594\n",
      "-6.929585982825813\n",
      "-6.946576338292595\n"
     ]
    },
    {
     "data": {
      "image/png": "[encoded data removed]",
      "text/plain": [
       "<Figure size 432x288 with 1 Axes>"
      ]
     },
     "metadata": {
      "needs_background": "light"
     },
     "output_type": "display_data"
    }
   ],
   "source": [
    "def perplexity_visible_model(self, topic_num, data_num):\n",
    "        '''\n",
    "        @description: 绘制困惑度-主题数目曲线\n",
    "        '''\n",
    "        corpus = self\n",
    "        x_list = []\n",
    "        y_list = []\n",
    "        for i in range(1,topic_num):\n",
    "            model_name = './lda_ttc_q_20/lda_{}_{}.model'.format(i, data_num) #这句话的意思是调用’lda_ttc_q_20‘文件夹内的某个模型。\n",
    "            try:\n",
    "                lda = models.ldamodel.LdaModel.load(model_name)\n",
    "                perplexity = lda.log_perplexity(corpus)\n",
    "                print(perplexity)\n",
    "                x_list.append(i)\n",
    "                y_list.append(perplexity)\n",
    "            except:\n",
    "                print('没有这个模型:{}'.format(model_name))\n",
    "        plt.xlabel('num topics')\n",
    "        plt.ylabel('perplexity score')\n",
    "        plt.legend(('perplexity_values'), loc='best')\n",
    "        plt.plot(x_list,y_list)\n",
    "        plt.show()\n",
    "perplexity_visible_model(corpus,12,799)"
   ]
  },
  {
   "cell_type": "code",
   "execution_count": 14,
   "metadata": {},
   "outputs": [
    {
     "name": "stdout",
     "output_type": "stream",
     "text": [
      "0.3674076560659661\n",
      "0.36465668823620223\n",
      "0.5456841703771322\n",
      "0.4545473868348029\n",
      "0.4817067871634892\n",
      "0.3844592659596884\n",
      "0.4157565711303131\n",
      "0.42456581284263706\n",
      "0.4151709614416457\n",
      "0.4385341324165717\n",
      "0.3818281171674373\n"
     ]
    },
    {
     "data": {
      "image/png": "[encoded data removed]",
      "text/plain": [
       "<Figure size 432x288 with 1 Axes>"
      ]
     },
     "metadata": {
      "needs_background": "light"
     },
     "output_type": "display_data"
    }
   ],
   "source": [
    "def visible_model(text, topic_num, data_num):\n",
    "        '''\n",
    "        @description: 可视化模型\n",
    "        @param :topic_num:主题的数量\n",
    "        @param :data_num:数据的量\n",
    "        @return: 可视化lda模型\n",
    "        '''\n",
    "        text = text\n",
    "        x_list = []\n",
    "        y_list = []\n",
    "        for i in range(1,topic_num):\n",
    "            model_name = './lda_ttc_q_20/lda_{}_{}.model'.format(i, data_num)\n",
    "            try:\n",
    "                lda = models.ldamodel.LdaModel.load(model_name)\n",
    "                cv_tmp = CoherenceModel(model=lda, texts=text, dictionary = dictionary, coherence='c_v')\n",
    "                coherence = cv_tmp.get_coherence()\n",
    "                print(coherence)\n",
    "                x_list.append(i)\n",
    "                y_list.append(coherence)\n",
    "            except:\n",
    "                print('没有这个模型:{}'.format(model_name))\n",
    "        plt.plot(x_list, y_list)\n",
    "        plt.xlabel('num topics')\n",
    "        plt.ylabel('coherence score')\n",
    "        plt.legend(('coherence_values'), loc='best')\n",
    "        plt.show()\n",
    "visible_model(text,12,799)"
   ]
  },
  {
   "cell_type": "code",
   "execution_count": 15,
   "metadata": {},
   "outputs": [],
   "source": [
    "def visible(self, topic_num, data_num):\n",
    "    corpus = self \n",
    "    model_name = './lda_ttc_q_20/lda_{}_{}.model'.format(topic_num, data_num)\n",
    "    lda = models.ldamodel.LdaModel.load(model_name)\n",
    "    vis_data = pyLDAvis.gensim.prepare(lda, corpus, dictionary)\n",
    "    return pyLDAvis.display(vis_data)"
   ]
  },
  {
   "cell_type": "code",
   "execution_count": 16,
   "metadata": {},
   "outputs": [
    {
     "data": {
      "text/html": [
       "\n",
       "<link rel=\"stylesheet\" type=\"text/css\" href=\"https://cdn.rawgit.com/bmabey/pyLDAvis/files/ldavis.v1.0.0.css\">\n",
       "\n",
       "\n",
       "<div id=\"ldavis_el45206140231444243392440841945\"></div>\n",
       "<script type=\"text/javascript\">\n",
       "\n",
       "var ldavis_el45206140231444243392440841945_data = {\"mdsDat\": {\"x\": [-0.03935519399497072, -0.0813251473247311, 0.12068034131970179], \"y\": [0.08751613491097304, -0.06933322254328093, -0.01818291236769213], \"topics\": [1, 2, 3], \"cluster\": [1, 1, 1], \"Freq\": [54.92127990722656, 27.713478088378906, 17.3652400970459]}, \"tinfo\": {\"Term\": [\"test\", \"cycle\", \"period\", \"faint\", \"negative\", \"positive\", \"late\", \"pink\", \"blood\", \"ovulation\", \"spotting\", \"nan\", \"lady\", \"bleeding\", \"brown\", \"frer\", \"pregnancy\", \"discharge\", \"blue\", \"pregnant\", \"flo\", \"light\", \"conceive\", \"menstruation\", \"ttc\", \"husband\", \"clomid\", \"egg\", \"doctor\", \"af\", \"pill\", \"track\", \"soft\", \"mirena\", \"tracking\", \"predictor\", \"wet\", \"position\", \"dance\", \"regular\", \"scar\", \"drs\", \"dull\", \"wednesday\", \"weird\", \"cervix\", \"flo\", \"menstruation\", \"stuff\", \"cd\", \"charting\", \"blazing\", \"average\", \"tester\", \"uncomfortable\", \"headache\", \"tenderness\", \"finding\", \"removal\", \"nursing\", \"aunt\", \"af\", \"ovulation\", \"sore\", \"opk\", \"ovulated\", \"kit\", \"cm\", \"fertile\", \"baby\", \"day\", \"cycle\", \"opks\", \"noticed\", \"month\", \"period\", \"started\", \"sign\", \"cramp\", \"start\", \"dpo\", \"time\", \"husband\", \"week\", \"sex\", \"ovulate\", \"ttc\", \"conceive\", \"symptom\", \"test\", \"feel\", \"pregnancy\", \"pregnant\", \"late\", \"positive\", \"negative\", \"morning\", \"hold\", \"indent\", \"retest\", \"bottom\", \"wiping\", \"peed\", \"wipe\", \"tweaked\", \"frame\", \"received\", \"vein\", \"pee\", \"swear\", \"fsh\", \"cummed\", \"evaporation\", \"wore\", \"tho\", \"matter\", \"nut\", \"5mm\", \"top\", \"officially\", \"obvious\", \"frer\", \"stick\", \"faintest\", \"pink\", \"evap\", \"sinse\", \"dizzy\", \"faint\", \"blue\", \"picture\", \"blood\", \"missed\", \"clot\", \"brown\", \"visible\", \"discharge\", \"negative\", \"wiped\", \"hour\", \"test\", \"urine\", \"positive\", \"line\", \"implantation\", \"spotting\", \"bleeding\", \"late\", \"light\", \"period\", \"pregnancy\", \"morning\", \"dark\", \"pregnant\", \"day\", \"time\", \"week\", \"yesterday\", \"symptom\", \"night\", \"feel\", \"super\", \"month\", \"dpo\", \"nan\", \"ivf\", \"insemination\", \"iui\", \"vitro\", \"fertilization\", \"basal\", \"intrauterine\", \"follicle\", \"ectopic\", \"hsg\", \"clomid\", \"metformin\", \"seeking\", \"diagnosed\", \"process\", \"rainbow\", \"fertilized\", \"temperature\", \"pprom\", \"larkin\", \"sch\", \"mthfr\", \"ovidrel\", \"reproductive\", \"endocrinologist\", \"50mg\", \"hair\", \"losing\", \"genetic\", \"round\", \"sperm\", \"trigger\", \"luteal\", \"phase\", \"quality\", \"success\", \"embryo\", \"boy\", \"break\", \"sort\", \"lady\", \"egg\", \"story\", \"pic\", \"doctor\", \"bbt\", \"share\", \"body\", \"test\", \"cycle\", \"conceive\", \"ttc\", \"pregnant\", \"pregnancy\", \"minute\", \"husband\", \"positive\", \"month\", \"miscarriage\", \"day\", \"started\", \"week\", \"ovulation\", \"feel\", \"yesterday\", \"time\", \"morning\"], \"Freq\": [495.0, 324.0, 531.0, 103.0, 184.0, 209.0, 141.0, 51.0, 72.0, 245.0, 106.0, 22.0, 80.0, 93.0, 54.0, 43.0, 221.0, 50.0, 45.0, 182.0, 113.0, 84.0, 108.0, 106.0, 119.0, 98.0, 16.0, 26.0, 49.0, 152.0, 22.43952751159668, 20.600879669189453, 16.883249282836914, 15.039856910705566, 16.72749900817871, 27.219806671142578, 10.439892768859863, 9.534514427185059, 25.07536506652832, 30.24933624267578, 8.61363697052002, 8.609025955200195, 8.595993041992188, 8.582477569580078, 25.733238220214844, 26.604875564575195, 106.4394302368164, 99.46025085449219, 7.681534290313721, 56.95346450805664, 7.675730228424072, 7.674703598022461, 7.662326812744141, 7.648454189300537, 7.650773525238037, 26.30931282043457, 7.634034633636475, 6.768252372741699, 6.766812801361084, 6.765762805938721, 102.05854797363281, 137.4222412109375, 218.4279327392578, 46.15596008300781, 57.12260055541992, 76.152099609375, 28.73972511291504, 47.7035026550293, 21.512453079223633, 92.76202392578125, 603.659912109375, 259.4582824707031, 33.52342987060547, 27.237489700317383, 202.87945556640625, 369.8342590332031, 100.72771453857422, 37.819602966308594, 64.67507934570312, 64.63138580322266, 67.75126647949219, 121.20100402832031, 69.91595458984375, 114.90503692626953, 53.333316802978516, 43.18946838378906, 74.03758239746094, 67.4869613647461, 71.18328094482422, 184.4162139892578, 72.200439453125, 105.19293212890625, 87.36221313476562, 74.16336059570312, 79.1544418334961, 67.60596466064453, 58.70895004272461, 19.220731735229492, 13.112798690795898, 8.925522804260254, 9.545963287353516, 11.864022254943848, 7.1396918296813965, 14.864458084106445, 5.473352909088135, 9.297311782836914, 4.587708473205566, 5.353346824645996, 13.747236251831055, 4.519632816314697, 5.258940696716309, 3.744776487350464, 3.7437751293182373, 3.7437069416046143, 3.7434847354888916, 3.742839813232422, 3.7382681369781494, 3.7366135120391846, 11.252740859985352, 4.475892543792725, 3.7108023166656494, 36.841705322265625, 8.891536712646484, 4.37431526184082, 43.356597900390625, 16.627107620239258, 2.880526304244995, 6.508835315704346, 82.47488403320312, 34.14495849609375, 25.096906661987305, 51.19252395629883, 22.815093994140625, 11.68543815612793, 38.71437454223633, 5.701614856719971, 34.770633697509766, 109.20194244384766, 16.06222152709961, 32.855735778808594, 236.8399658203125, 16.357358932495117, 100.47230529785156, 20.05217742919922, 36.35455322265625, 54.524024963378906, 48.8098258972168, 65.46124267578125, 44.13070297241211, 157.21945190429688, 80.24671173095703, 54.31950378417969, 20.994213104248047, 61.7584114074707, 140.46311950683594, 58.85749053955078, 57.776268005371094, 35.84427261352539, 38.13554382324219, 26.480283737182617, 33.47065734863281, 23.25273323059082, 24.35128402709961, 23.26167869567871, 22.0543212890625, 12.700066566467285, 12.69835090637207, 12.686226844787598, 11.133418083190918, 10.365264892578125, 10.34284496307373, 9.588706970214844, 7.218608856201172, 5.706784725189209, 8.497994422912598, 14.865785598754883, 5.660606861114502, 4.92661714553833, 4.145963191986084, 4.143100738525391, 4.13515567779541, 4.103244781494141, 13.01317310333252, 3.373058557510376, 3.373013973236084, 3.3729970455169678, 3.372964382171631, 3.3722589015960693, 3.369976758956909, 3.3699545860290527, 3.3670127391815186, 3.3669888973236084, 3.3660500049591064, 3.3654255867004395, 11.762131690979004, 8.48560619354248, 8.81889533996582, 6.415014266967773, 6.414093017578125, 4.597812652587891, 10.912943840026855, 4.540659427642822, 7.0722222328186035, 6.298801898956299, 4.869175434112549, 30.22419548034668, 13.727303504943848, 16.47463607788086, 14.07272720336914, 19.121986389160156, 13.423747062683105, 8.567748069763184, 16.662002563476562, 74.20159149169922, 55.574134826660156, 27.58028793334961, 28.795658111572266, 33.43111038208008, 36.002159118652344, 13.509681701660156, 21.911087036132812, 29.624052047729492, 31.212745666503906, 15.235487937927246, 41.80671691894531, 20.3485107421875, 21.57688331604004, 18.81987762451172, 16.41307258605957, 14.944574356079102, 15.293970108032227, 14.464523315429688], \"Total\": [495.0, 324.0, 531.0, 103.0, 184.0, 209.0, 141.0, 51.0, 72.0, 245.0, 106.0, 22.0, 80.0, 93.0, 54.0, 43.0, 221.0, 50.0, 45.0, 182.0, 113.0, 84.0, 108.0, 106.0, 119.0, 98.0, 16.0, 26.0, 49.0, 152.0, 23.009443283081055, 21.16368865966797, 17.469144821166992, 15.623641967773438, 17.45895004272461, 28.4650821685791, 11.008193016052246, 10.086017608642578, 26.53666114807129, 32.06549072265625, 9.163189888000488, 9.162861824035645, 9.161443710327148, 9.160806655883789, 27.47077751159668, 28.46123695373535, 113.88322448730469, 106.52432250976562, 8.239278793334961, 61.118431091308594, 8.23757266998291, 8.238511085510254, 8.237175941467285, 8.232987403869629, 8.236695289611816, 28.326616287231445, 8.232187271118164, 7.316778182983398, 7.316686153411865, 7.31643533706665, 110.88654327392578, 152.85494995117188, 245.23944091796875, 51.09774398803711, 63.8043212890625, 86.56058502197266, 31.813255310058594, 53.75236511230469, 23.668474197387695, 108.24237060546875, 785.9297485351562, 324.19281005859375, 38.075401306152344, 30.773792266845703, 258.4434814453125, 531.393310546875, 138.1614227294922, 45.488868713378906, 85.6313247680664, 88.85370635986328, 94.678955078125, 195.35247802734375, 98.85371398925781, 194.25819396972656, 71.52095794677734, 54.62486267089844, 119.9691162109375, 108.44764709472656, 117.71731567382812, 495.457763671875, 122.08416748046875, 221.44180297851562, 182.55172729492188, 141.1446990966797, 209.25079345703125, 184.95211791992188, 127.49298095703125, 19.87236213684082, 13.83095932006836, 9.500310897827148, 10.360602378845215, 12.906073570251465, 7.769735336303711, 16.336721420288086, 6.041838645935059, 10.326935768127441, 5.178603649139404, 6.049304008483887, 15.634201049804688, 5.182701587677002, 6.051394462585449, 4.312921524047852, 4.312862396240234, 4.312916278839111, 4.312865257263184, 4.312841415405273, 4.312535762786865, 4.312546730041504, 13.01878547668457, 5.1850810050964355, 4.310798645019531, 43.17763900756836, 10.421711921691895, 5.156660079956055, 51.17062759399414, 19.685548782348633, 3.448352098464966, 7.814047336578369, 103.69456481933594, 45.78976821899414, 33.15890121459961, 72.66238403320312, 30.4293270111084, 14.828524589538574, 54.54962921142578, 6.8432393074035645, 50.20356750488281, 184.95211791992188, 21.924362182617188, 49.89279556274414, 495.457763671875, 22.66593360900879, 209.25079345703125, 30.508752822875977, 64.03672790527344, 106.8934097290039, 93.51155090332031, 141.1446990966797, 84.36243438720703, 531.393310546875, 221.44180297851562, 127.49298095703125, 32.52415466308594, 182.55172729492188, 785.9297485351562, 195.35247802734375, 194.25819396972656, 102.80721282958984, 117.71731567382812, 60.84516525268555, 122.08416748046875, 57.403255462646484, 258.4434814453125, 94.678955078125, 22.655080795288086, 13.314342498779297, 13.314210891723633, 13.31574821472168, 11.758971214294434, 10.978668212890625, 10.98169231414795, 10.199418067932129, 7.867093563079834, 6.305228233337402, 9.456629753112793, 16.547229766845703, 6.310857772827148, 5.526904106140137, 4.7485127449035645, 4.7487897872924805, 4.750071048736572, 4.753134250640869, 15.100671768188477, 3.969261646270752, 3.9692654609680176, 3.9692673683166504, 3.969273805618286, 3.9693799018859863, 3.9698281288146973, 3.969832420349121, 3.970167875289917, 3.9701828956604004, 3.9699692726135254, 3.970369338989258, 14.367958068847656, 10.40369701385498, 11.148714065551758, 8.015212059020996, 8.015375137329102, 5.587564945220947, 15.42943286895752, 5.597701072692871, 9.735794067382812, 8.918379783630371, 6.4587249755859375, 80.23796844482422, 26.970077514648438, 35.33771896362305, 29.700462341308594, 49.98291778564453, 29.47415542602539, 14.69921875, 41.82093811035156, 495.457763671875, 324.19281005859375, 108.44764709472656, 119.9691162109375, 182.55172729492188, 221.44180297851562, 35.118675231933594, 98.85371398925781, 209.25079345703125, 258.4434814453125, 47.70573043823242, 785.9297485351562, 138.1614227294922, 194.25819396972656, 245.23944091796875, 122.08416748046875, 102.80721282958984, 195.35247802734375, 127.49298095703125], \"Category\": [\"Default\", \"Default\", \"Default\", \"Default\", \"Default\", \"Default\", \"Default\", \"Default\", \"Default\", \"Default\", \"Default\", \"Default\", \"Default\", \"Default\", \"Default\", \"Default\", \"Default\", \"Default\", \"Default\", \"Default\", \"Default\", \"Default\", \"Default\", \"Default\", \"Default\", \"Default\", \"Default\", \"Default\", \"Default\", \"Default\", \"Topic1\", \"Topic1\", \"Topic1\", \"Topic1\", \"Topic1\", \"Topic1\", \"Topic1\", \"Topic1\", \"Topic1\", \"Topic1\", \"Topic1\", \"Topic1\", \"Topic1\", \"Topic1\", \"Topic1\", \"Topic1\", \"Topic1\", \"Topic1\", \"Topic1\", \"Topic1\", \"Topic1\", \"Topic1\", \"Topic1\", \"Topic1\", \"Topic1\", \"Topic1\", \"Topic1\", \"Topic1\", \"Topic1\", \"Topic1\", \"Topic1\", \"Topic1\", \"Topic1\", \"Topic1\", \"Topic1\", \"Topic1\", \"Topic1\", \"Topic1\", \"Topic1\", \"Topic1\", \"Topic1\", \"Topic1\", \"Topic1\", \"Topic1\", \"Topic1\", \"Topic1\", \"Topic1\", \"Topic1\", \"Topic1\", \"Topic1\", \"Topic1\", \"Topic1\", \"Topic1\", \"Topic1\", \"Topic1\", \"Topic1\", \"Topic1\", \"Topic1\", \"Topic1\", \"Topic1\", \"Topic1\", \"Topic1\", \"Topic1\", \"Topic1\", \"Topic1\", \"Topic1\", \"Topic1\", \"Topic2\", \"Topic2\", \"Topic2\", \"Topic2\", \"Topic2\", \"Topic2\", \"Topic2\", \"Topic2\", \"Topic2\", \"Topic2\", \"Topic2\", \"Topic2\", \"Topic2\", \"Topic2\", \"Topic2\", \"Topic2\", \"Topic2\", \"Topic2\", \"Topic2\", \"Topic2\", \"Topic2\", \"Topic2\", \"Topic2\", \"Topic2\", \"Topic2\", \"Topic2\", \"Topic2\", \"Topic2\", \"Topic2\", \"Topic2\", \"Topic2\", \"Topic2\", \"Topic2\", \"Topic2\", \"Topic2\", \"Topic2\", \"Topic2\", \"Topic2\", \"Topic2\", \"Topic2\", \"Topic2\", \"Topic2\", \"Topic2\", \"Topic2\", \"Topic2\", \"Topic2\", \"Topic2\", \"Topic2\", \"Topic2\", \"Topic2\", \"Topic2\", \"Topic2\", \"Topic2\", \"Topic2\", \"Topic2\", \"Topic2\", \"Topic2\", \"Topic2\", \"Topic2\", \"Topic2\", \"Topic2\", \"Topic2\", \"Topic2\", \"Topic2\", \"Topic2\", \"Topic2\", \"Topic2\", \"Topic3\", \"Topic3\", \"Topic3\", \"Topic3\", \"Topic3\", \"Topic3\", \"Topic3\", \"Topic3\", \"Topic3\", \"Topic3\", \"Topic3\", \"Topic3\", \"Topic3\", \"Topic3\", \"Topic3\", \"Topic3\", \"Topic3\", \"Topic3\", \"Topic3\", \"Topic3\", \"Topic3\", \"Topic3\", \"Topic3\", \"Topic3\", \"Topic3\", \"Topic3\", \"Topic3\", \"Topic3\", \"Topic3\", \"Topic3\", \"Topic3\", \"Topic3\", \"Topic3\", \"Topic3\", \"Topic3\", \"Topic3\", \"Topic3\", \"Topic3\", \"Topic3\", \"Topic3\", \"Topic3\", \"Topic3\", \"Topic3\", \"Topic3\", \"Topic3\", \"Topic3\", \"Topic3\", \"Topic3\", \"Topic3\", \"Topic3\", \"Topic3\", \"Topic3\", \"Topic3\", \"Topic3\", \"Topic3\", \"Topic3\", \"Topic3\", \"Topic3\", \"Topic3\", \"Topic3\", \"Topic3\", \"Topic3\", \"Topic3\", \"Topic3\", \"Topic3\", \"Topic3\", \"Topic3\", \"Topic3\"], \"logprob\": [30.0, 29.0, 28.0, 27.0, 26.0, 25.0, 24.0, 23.0, 22.0, 21.0, 20.0, 19.0, 18.0, 17.0, 16.0, 15.0, 14.0, 13.0, 12.0, 11.0, 10.0, 9.0, 8.0, 7.0, 6.0, 5.0, 4.0, 3.0, 2.0, 1.0, -6.270199775695801, -6.3557000160217285, -6.554699897766113, -6.670300006866455, -6.564000129699707, -6.077099800109863, -7.035399913787842, -7.126100063323975, -6.159200191497803, -5.97160005569458, -7.227700233459473, -7.2281999588012695, -7.229700088500977, -7.231299877166748, -6.133299827575684, -6.099899768829346, -4.713500022888184, -4.781300067901611, -7.342199802398682, -5.338799953460693, -7.3429999351501465, -7.343100070953369, -7.344699859619141, -7.346499919891357, -7.346199989318848, -6.111100196838379, -7.348400115966797, -7.468800067901611, -7.468999862670898, -7.469200134277344, -4.755499839782715, -4.458000183105469, -3.9946000576019287, -5.548999786376953, -5.3358001708984375, -5.048299789428711, -6.022799968719482, -5.515999794006348, -6.312399864196777, -4.85099983215332, -2.9779999256134033, -3.8224000930786133, -5.868800163269043, -6.076399803161621, -4.068399906158447, -3.4679999351501465, -4.768599987030029, -5.748199939727783, -5.211699962615967, -5.212299823760986, -5.165200233459473, -4.583600044250488, -5.133699893951416, -4.636899948120117, -5.4045000076293945, -5.6153998374938965, -5.076499938964844, -5.169099807739258, -5.115799903869629, -4.16379976272583, -5.101600170135498, -4.725200176239014, -4.910999774932861, -5.07480001449585, -5.0096001625061035, -5.167300224304199, -5.3084001541137695, -5.741099834442139, -6.123499870300293, -6.5081000328063965, -6.440899848937988, -6.223499774932861, -6.731400012969971, -5.9980998039245605, -6.997200012207031, -6.467299938201904, -7.173699855804443, -7.0192999839782715, -6.076200008392334, -7.188600063323975, -7.037099838256836, -7.376699924468994, -7.376999855041504, -7.376999855041504, -7.376999855041504, -7.377200126647949, -7.378399848937988, -7.378900051116943, -6.276400089263916, -7.198400020599365, -7.385799884796143, -5.090400218963623, -6.51200008392334, -7.22130012512207, -4.927599906921387, -5.886000156402588, -7.639100074768066, -6.82390022277832, -4.284599781036377, -5.166399955749512, -5.474299907684326, -4.761499881744385, -5.5696001052856445, -6.238699913024902, -5.040800094604492, -6.956299781799316, -5.1483001708984375, -4.003900051116943, -5.920599937438965, -5.204899787902832, -3.2297000885009766, -5.902400016784668, -4.087200164794922, -5.698699951171875, -5.103700160980225, -4.698400020599365, -4.809100151062012, -4.515600204467773, -4.909900188446045, -3.639400005340576, -4.311999797821045, -4.702199935913086, -5.6528000831604, -4.573800086975098, -3.7520999908447266, -4.6219000816345215, -4.640500068664551, -5.1178998947143555, -5.0559000968933105, -5.4207000732421875, -5.186399936676025, -5.550600051879883, -5.504499912261963, -5.550300121307373, -5.136099815368652, -5.688000202178955, -5.6880998611450195, -5.6890997886657715, -5.819699764251709, -5.89109992980957, -5.8933000564575195, -5.968999862670898, -6.252900123596191, -6.48799991607666, -6.089799880981445, -5.5304999351501465, -6.496099948883057, -6.635000228881836, -6.807499885559082, -6.808199882507324, -6.810100078582764, -6.817800045013428, -5.663599967956543, -7.013800144195557, -7.013800144195557, -7.013800144195557, -7.013800144195557, -7.013999938964844, -7.014699935913086, -7.014699935913086, -7.015600204467773, -7.015600204467773, -7.015900135040283, -7.01609992980957, -5.764699935913086, -6.09119987487793, -6.052700042724609, -6.370999813079834, -6.371099948883057, -6.703999996185303, -5.839700222015381, -6.7164998054504395, -6.273399829864502, -6.3892998695373535, -6.646699905395508, -4.821000099182129, -5.610199928283691, -5.427800178527832, -5.585400104522705, -5.278800010681152, -5.632599830627441, -6.081600189208984, -5.416500091552734, -3.922800064086914, -4.211900234222412, -4.912499904632568, -4.8694000244140625, -4.720099925994873, -4.645999908447266, -5.626200199127197, -5.142600059509277, -4.841000080108643, -4.78879976272583, -5.50600004196167, -4.496600151062012, -5.216599941253662, -5.1579999923706055, -5.2947001457214355, -5.43149995803833, -5.525300025939941, -5.502200126647949, -5.5578999519348145], \"loglift\": [30.0, 29.0, 28.0, 27.0, 26.0, 25.0, 24.0, 23.0, 22.0, 21.0, 20.0, 19.0, 18.0, 17.0, 16.0, 15.0, 14.0, 13.0, 12.0, 11.0, 10.0, 9.0, 8.0, 7.0, 6.0, 5.0, 4.0, 3.0, 2.0, 1.0, 0.5741999745368958, 0.5723000168800354, 0.5651999711990356, 0.5612000226974487, 0.5565000176429749, 0.5544999837875366, 0.5462999939918518, 0.5429999828338623, 0.5425999760627747, 0.5410000085830688, 0.5374000072479248, 0.536899983882904, 0.5356000065803528, 0.5340999960899353, 0.5339000225067139, 0.5317999720573425, 0.5317000150680542, 0.5307000279426575, 0.52920001745224, 0.5286999940872192, 0.5285999774932861, 0.5284000039100647, 0.5268999934196472, 0.525600016117096, 0.5254999995231628, 0.5253999829292297, 0.5238000154495239, 0.5213000178337097, 0.5210999846458435, 0.5210000276565552, 0.5163000226020813, 0.4927999973297119, 0.48350000381469727, 0.4975999891757965, 0.4885999858379364, 0.47119998931884766, 0.4977000057697296, 0.4799000024795532, 0.5037999749183655, 0.4449000060558319, 0.3353999853134155, 0.3765000104904175, 0.47189998626708984, 0.4772000014781952, 0.3571999967098236, 0.23680000007152557, 0.2833000123500824, 0.4146000146865845, 0.31859999895095825, 0.2809999883174896, 0.26460000872612, 0.12189999967813492, 0.25290000438690186, 0.07419999688863754, 0.3057999908924103, 0.3643999993801117, 0.11659999936819077, 0.12489999830722809, 0.09619999676942825, -0.3889999985694885, 0.07400000095367432, -0.14509999752044678, -0.13770000636577606, -0.044199999421834946, -0.37290000915527344, -0.40709999203681946, -0.1762000024318695, 1.249899983406067, 1.2299000024795532, 1.2208000421524048, 1.2014000415802002, 1.1991000175476074, 1.198699951171875, 1.1887999773025513, 1.184399962425232, 1.1782000064849854, 1.1620999574661255, 1.1610000133514404, 1.1546000242233276, 1.146399974822998, 1.142899990081787, 1.1419999599456787, 1.141700029373169, 1.141700029373169, 1.141700029373169, 1.1414999961853027, 1.1403000354766846, 1.1398999691009521, 1.1375000476837158, 1.136199951171875, 1.1333999633789062, 1.1246000528335571, 1.124500036239624, 1.1187000274658203, 1.1174999475479126, 1.114400029182434, 1.1032999753952026, 1.1004999876022339, 1.0542999505996704, 0.989799976348877, 1.004699945449829, 0.9330000281333923, 0.9952999949455261, 1.0449999570846558, 0.9404000043869019, 1.1007000207901, 0.9158999919891357, 0.7563999891281128, 0.972100019454956, 0.8654999732971191, 0.545199990272522, 0.957099974155426, 0.5496000051498413, 0.8636000156402588, 0.7171000242233276, 0.6100999712944031, 0.6330999732017517, 0.5149000287055969, 0.6352999806404114, 0.06539999693632126, 0.26820001006126404, 0.4300999939441681, 0.8454999923706055, 0.19939999282360077, -0.43869999051094055, 0.0835999995470047, 0.0706000030040741, 0.2295999974012375, 0.15610000491142273, 0.4512999951839447, -0.01080000028014183, 0.37959998846054077, -1.0787999629974365, -0.12039999663829803, 1.7237999439239502, 1.7035000324249268, 1.7032999992370605, 1.702299952507019, 1.6959999799728394, 1.6931999921798706, 1.6907999515533447, 1.6890000104904175, 1.6647000312805176, 1.6510000228881836, 1.6438000202178955, 1.6434999704360962, 1.6419999599456787, 1.635699987411499, 1.6150000095367432, 1.614300012588501, 1.6121000051498413, 1.603700041770935, 1.6018999814987183, 1.5879000425338745, 1.5879000425338745, 1.5879000425338745, 1.5879000425338745, 1.5877000093460083, 1.586899995803833, 1.586899995803833, 1.5858999490737915, 1.5858999490737915, 1.5857000350952148, 1.5853999853134155, 1.5506000518798828, 1.5469000339508057, 1.5162999629974365, 1.527999997138977, 1.5277999639511108, 1.5556999444961548, 1.4043999910354614, 1.5413999557495117, 1.4311000108718872, 1.402899980545044, 1.4681999683380127, 0.7742999792098999, 1.0753999948501587, 0.9876000285148621, 1.0038000345230103, 0.789900004863739, 0.9642000198364258, 1.2108999490737915, 0.8303999900817871, -0.14800000190734863, -0.012900000438094139, 0.3815000057220459, 0.3237000107765198, 0.053199999034404755, -0.06589999794960022, 0.7954000234603882, 0.24410000443458557, -0.20419999957084656, -0.36320000886917114, 0.6093000173568726, -1.1830999851226807, -0.1647000014781952, -0.44690001010894775, -0.8166000247001648, -0.25589999556541443, -0.1777999997138977, -0.7965999841690063, -0.42570000886917114]}, \"token.table\": {\"Topic\": [3, 2, 1, 2, 3, 1, 2, 3, 1, 1, 2, 3, 3, 1, 2, 3, 1, 1, 2, 3, 1, 2, 3, 1, 2, 3, 1, 2, 3, 2, 1, 3, 1, 2, 3, 1, 2, 1, 3, 1, 2, 1, 1, 2, 3, 1, 2, 1, 2, 3, 1, 2, 3, 1, 2, 3, 2, 1, 2, 3, 1, 3, 1, 2, 3, 1, 2, 3, 3, 1, 2, 1, 2, 1, 2, 3, 1, 2, 3, 1, 1, 3, 1, 3, 1, 3, 3, 1, 2, 3, 2, 1, 2, 3, 2, 1, 2, 3, 1, 2, 3, 3, 3, 1, 1, 2, 3, 3, 2, 3, 1, 2, 3, 1, 2, 3, 3, 1, 2, 3, 2, 1, 2, 3, 2, 3, 1, 2, 3, 1, 2, 3, 2, 3, 3, 3, 3, 1, 2, 3, 1, 2, 3, 3, 1, 2, 3, 1, 2, 3, 1, 2, 3, 3, 1, 3, 2, 1, 2, 3, 3, 1, 2, 3, 1, 1, 2, 3, 1, 2, 3, 1, 2, 3, 1, 2, 3, 3, 3, 1, 2, 3, 1, 2, 3, 1, 3, 1, 2, 2, 2, 1, 2, 3, 1, 2, 3, 3, 1, 2, 3, 1, 2, 3, 1, 2, 3, 1, 2, 2, 1, 2, 3, 1, 3, 1, 2, 3, 1, 2, 3, 1, 1, 2, 3, 1, 1, 2, 3, 3, 1, 2, 3, 1, 2, 3, 1, 2, 3, 3, 1, 3, 3, 2, 1, 2, 3, 1, 3, 2, 1, 2, 3, 1, 3, 3, 1, 2, 3, 1, 2, 3, 1, 2, 3, 2, 1, 1, 2, 3, 1, 3, 1, 3, 1, 2, 3, 1, 2, 3, 1, 2, 3, 1, 2, 1, 2, 3, 1, 1, 2, 3, 1, 2, 3, 2, 1, 2, 3, 1, 3, 1, 1, 2, 3, 1, 2, 1, 2, 3, 1, 2, 1, 1, 2, 3, 1, 2, 3, 2, 1, 1, 2, 3, 2, 2, 3, 3, 1, 1, 2, 3, 1, 2, 3, 1, 2, 3, 1, 2, 2, 3, 2, 1, 2, 3], \"Freq\": [0.7556355595588684, 0.9275261759757996, 0.8962745666503906, 0.08504794538021088, 0.013084299862384796, 0.9198591113090515, 0.06312758475542068, 0.018036453053355217, 0.9712066650390625, 0.8591829538345337, 0.02771557867527008, 0.12010084092617035, 0.9106064438819885, 0.37320831418037415, 0.16964013874530792, 0.44106438755989075, 0.9710492491722107, 0.47053009271621704, 0.5239994525909424, 0.010693865828216076, 0.2614833116531372, 0.7018762230873108, 0.04128683730959892, 0.043677881360054016, 0.7425239682197571, 0.19655045866966248, 0.4782293438911438, 0.11955733597278595, 0.40649494528770447, 0.965194821357727, 0.20542751252651215, 0.7189962863922119, 0.2242559790611267, 0.11212798953056335, 0.6727679371833801, 0.29331088066101074, 0.7149452567100525, 0.9326155781745911, 0.06544670462608337, 0.9486587047576904, 0.07027101516723633, 0.9711598753929138, 0.060433074831962585, 0.060433074831962585, 0.9064961671829224, 0.20231278240680695, 0.8092511296272278, 0.8929839730262756, 0.05581149831414223, 0.05581149831414223, 0.6178095936775208, 0.11987350881099701, 0.2581890821456909, 0.7590680122375488, 0.17516954243183136, 0.07006781548261642, 0.9274455904960632, 0.7989072799682617, 0.02776125818490982, 0.17273671925067902, 0.9420928955078125, 0.03768371418118477, 0.30746379494667053, 0.6456739902496338, 0.030746379867196083, 0.7685165405273438, 0.17813296616077423, 0.05343988910317421, 0.842369019985199, 0.298783540725708, 0.6971616148948669, 0.12797465920448303, 0.8958225846290588, 0.3401162028312683, 0.2800956964492798, 0.380129873752594, 0.7182166576385498, 0.2429262101650238, 0.042248036712408066, 0.9822258949279785, 0.9823779463768005, 0.9515912532806396, 0.4820156693458557, 0.5190938115119934, 0.17864476144313812, 0.8932238221168518, 0.7556993961334229, 0.0507986843585968, 0.863577663898468, 0.1015973687171936, 0.9274582862854004, 0.12536819279193878, 0.7907840013504028, 0.0771496593952179, 0.7756958603858948, 0.5897570848464966, 0.2703053057193756, 0.13105712831020355, 0.9295064806938171, 0.042250294238328934, 0.08450058847665787, 0.9108573198318481, 0.8415499925613403, 0.9567052125930786, 0.9307780265808105, 0.06146647036075592, 0.00878092460334301, 0.8897822499275208, 0.8715072870254517, 0.09683414548635483, 0.09264054149389267, 0.8569250106811523, 0.06948041170835495, 0.16525116562843323, 0.8262558579444885, 0.7555972337722778, 0.7556326985359192, 0.9178646802902222, 0.03530248627066612, 0.03530248627066612, 0.9561017155647278, 0.2806016206741333, 0.6614181399345398, 0.06012892350554466, 0.10574591904878616, 0.8459673523902893, 0.7081170678138733, 0.07081170380115509, 0.22255107760429382, 0.3591688871383667, 0.5621773600578308, 0.0780801922082901, 0.9399203658103943, 0.9764003157615662, 0.9804480671882629, 0.9762876033782959, 0.9763906598091125, 0.9115697145462036, 0.03143343701958656, 0.06286687403917313, 0.44866541028022766, 0.17448098957538605, 0.373887836933136, 0.7558073401451111, 0.5242846608161926, 0.46052029728889465, 0.01416985597461462, 0.4504374563694, 0.5215591788291931, 0.023707235231995583, 0.09833243489265442, 0.6555495858192444, 0.22944235801696777, 0.755673348903656, 0.12476276606321335, 0.7485765814781189, 0.9274628162384033, 0.9293652176856995, 0.05632516369223595, 0.009387527592480183, 0.9507423639297485, 0.14237439632415771, 0.4840729236602783, 0.39864829182624817, 0.9600834250450134, 0.6078934073448181, 0.08384736627340317, 0.3144276440143585, 0.1971781998872757, 0.7558497786521912, 0.06572606414556503, 0.7854715585708618, 0.09286363422870636, 0.1199488565325737, 0.46277058124542236, 0.4235527217388153, 0.10980996489524841, 0.7558057308197021, 0.9710845947265625, 0.3676627278327942, 0.5893417000770569, 0.043254438787698746, 0.5587954521179199, 0.4273141622543335, 0.016435159370303154, 0.8773699402809143, 0.09748554974794388, 0.9567500948905945, 0.9275285601615906, 0.9279022812843323, 0.7714440822601318, 0.893356442451477, 0.06269168108701706, 0.047018758952617645, 0.8929649591445923, 0.026263676583766937, 0.07879102975130081, 0.7557855844497681, 0.7871873378753662, 0.07322672754526138, 0.14645345509052277, 0.8779977560043335, 0.08086821436882019, 0.046210408210754395, 0.888927161693573, 0.03262117877602577, 0.07747530192136765, 0.12792466580867767, 0.8954727053642273, 0.9009315967559814, 0.6962827444076538, 0.29544970393180847, 0.007527381181716919, 0.1247602254152298, 0.7485613226890564, 0.06733901798725128, 0.47137314081192017, 0.47137314081192017, 0.21110470592975616, 0.7539453506469727, 0.030157815665006638, 0.9561291933059692, 0.11725476384162903, 0.8403258323669434, 0.03908492252230644, 0.9914715886116028, 0.37753739953041077, 0.47789543867111206, 0.14336863160133362, 0.7558080554008484, 0.9485305547714233, 0.035130761563777924, 0.035130761563777924, 0.4741652011871338, 0.3612687289714813, 0.16257092356681824, 0.4765772521495819, 0.33962976932525635, 0.18077068030834198, 0.8423198461532593, 0.17896883189678192, 0.8948441743850708, 0.8420926928520203, 0.9655112624168396, 0.9355852603912354, 0.031186174601316452, 0.031186174601316452, 0.9567172527313232, 0.7557002305984497, 0.9473373889923096, 0.13919863104820251, 0.06959931552410126, 0.8351917266845703, 0.982190728187561, 0.7558069825172424, 0.9046655893325806, 0.7410415410995483, 0.23769256472587585, 0.027963832020759583, 0.06803082674741745, 0.34015414118766785, 0.6122774481773376, 0.8353692293167114, 0.13190039992332458, 0.021983399987220764, 0.8699807524681091, 0.9731443524360657, 0.9002354145050049, 0.05871100723743439, 0.039140671491622925, 0.15482932329177856, 0.7741466164588928, 0.19223935902118683, 0.7689574360847473, 0.4771108031272888, 0.5145312547683716, 0.009355113841593266, 0.7315395474433899, 0.19132572412490845, 0.09003563970327377, 0.7310289740562439, 0.12304447591304779, 0.1447582095861435, 0.09595352411270142, 0.8635817170143127, 0.36787885427474976, 0.16979025304317474, 0.4527739882469177, 0.9709587693214417, 0.19443358480930328, 0.06481119245290756, 0.7129231691360474, 0.5051978230476379, 0.40067413449287415, 0.1045236885547638, 0.9647477865219116, 0.6031398177146912, 0.3228072226047516, 0.06795941293239594, 0.13244444131851196, 0.8608888387680054, 0.9717952013015747, 0.3713737428188324, 0.47834551334381104, 0.14935682713985443, 0.9717007279396057, 0.9274576902389526, 0.6193932294845581, 0.3020181953907013, 0.07678428292274475, 0.07681208103895187, 0.8449329137802124, 0.9922655820846558, 0.9737126231193542, 0.17939288914203644, 0.807267963886261, 0.6168254017829895, 0.14170312881469727, 0.24172887206077576, 0.8275626301765442, 0.9712632894515991, 0.2205953747034073, 0.7059051990509033, 0.04411907494068146, 0.8265413641929626, 0.8767777681350708, 0.14612962305545807, 0.9354559779167175, 0.9824462532997131, 0.5919955968856812, 0.29857170581817627, 0.11325133591890335, 0.9464603066444397, 0.03640231862664223, 0.03640231862664223, 0.9084143042564392, 0.9181768894195557, 0.06121179088950157, 0.27366816997528076, 0.7297818064689636, 0.9297947883605957, 0.07748290151357651, 0.927446722984314, 0.5058010816574097, 0.35016998648643494, 0.14590415358543396], \"Term\": [\"50mg\", \"5mm\", \"af\", \"af\", \"af\", \"aunt\", \"aunt\", \"aunt\", \"average\", \"baby\", \"baby\", \"baby\", \"basal\", \"bbt\", \"bbt\", \"bbt\", \"blazing\", \"bleeding\", \"bleeding\", \"bleeding\", \"blood\", \"blood\", \"blood\", \"blue\", \"blue\", \"blue\", \"body\", \"body\", \"body\", \"bottom\", \"boy\", \"boy\", \"break\", \"break\", \"break\", \"brown\", \"brown\", \"cd\", \"cd\", \"cervix\", \"cervix\", \"charting\", \"clomid\", \"clomid\", \"clomid\", \"clot\", \"clot\", \"cm\", \"cm\", \"cm\", \"conceive\", \"conceive\", \"conceive\", \"cramp\", \"cramp\", \"cramp\", \"cummed\", \"cycle\", \"cycle\", \"cycle\", \"dance\", \"dance\", \"dark\", \"dark\", \"dark\", \"day\", \"day\", \"day\", \"diagnosed\", \"discharge\", \"discharge\", \"dizzy\", \"dizzy\", \"doctor\", \"doctor\", \"doctor\", \"dpo\", \"dpo\", \"dpo\", \"drs\", \"dull\", \"ectopic\", \"egg\", \"egg\", \"embryo\", \"embryo\", \"endocrinologist\", \"evap\", \"evap\", \"evap\", \"evaporation\", \"faint\", \"faint\", \"faint\", \"faintest\", \"feel\", \"feel\", \"feel\", \"fertile\", \"fertile\", \"fertile\", \"fertilization\", \"fertilized\", \"finding\", \"flo\", \"flo\", \"flo\", \"follicle\", \"frame\", \"frame\", \"frer\", \"frer\", \"frer\", \"fsh\", \"fsh\", \"genetic\", \"hair\", \"headache\", \"headache\", \"headache\", \"hold\", \"hour\", \"hour\", \"hour\", \"hsg\", \"hsg\", \"husband\", \"husband\", \"husband\", \"implantation\", \"implantation\", \"implantation\", \"indent\", \"insemination\", \"intrauterine\", \"iui\", \"ivf\", \"kit\", \"kit\", \"kit\", \"lady\", \"lady\", \"lady\", \"larkin\", \"late\", \"late\", \"late\", \"light\", \"light\", \"light\", \"line\", \"line\", \"line\", \"losing\", \"luteal\", \"luteal\", \"matter\", \"menstruation\", \"menstruation\", \"menstruation\", \"metformin\", \"minute\", \"minute\", \"minute\", \"mirena\", \"miscarriage\", \"miscarriage\", \"miscarriage\", \"missed\", \"missed\", \"missed\", \"month\", \"month\", \"month\", \"morning\", \"morning\", \"morning\", \"mthfr\", \"nan\", \"negative\", \"negative\", \"negative\", \"night\", \"night\", \"night\", \"noticed\", \"noticed\", \"nursing\", \"nut\", \"obvious\", \"officially\", \"opk\", \"opk\", \"opk\", \"opks\", \"opks\", \"opks\", \"ovidrel\", \"ovulate\", \"ovulate\", \"ovulate\", \"ovulated\", \"ovulated\", \"ovulated\", \"ovulation\", \"ovulation\", \"ovulation\", \"pee\", \"pee\", \"peed\", \"period\", \"period\", \"period\", \"phase\", \"phase\", \"pic\", \"pic\", \"pic\", \"picture\", \"picture\", \"picture\", \"pill\", \"pink\", \"pink\", \"pink\", \"position\", \"positive\", \"positive\", \"positive\", \"pprom\", \"predictor\", \"predictor\", \"predictor\", \"pregnancy\", \"pregnancy\", \"pregnancy\", \"pregnant\", \"pregnant\", \"pregnant\", \"process\", \"quality\", \"quality\", \"rainbow\", \"received\", \"regular\", \"regular\", \"regular\", \"removal\", \"reproductive\", \"retest\", \"round\", \"round\", \"round\", \"scar\", \"sch\", \"seeking\", \"sex\", \"sex\", \"sex\", \"share\", \"share\", \"share\", \"sign\", \"sign\", \"sign\", \"sinse\", \"soft\", \"sore\", \"sore\", \"sore\", \"sort\", \"sort\", \"sperm\", \"sperm\", \"spotting\", \"spotting\", \"spotting\", \"start\", \"start\", \"start\", \"started\", \"started\", \"started\", \"stick\", \"stick\", \"story\", \"story\", \"story\", \"stuff\", \"success\", \"success\", \"success\", \"super\", \"super\", \"super\", \"swear\", \"symptom\", \"symptom\", \"symptom\", \"temperature\", \"temperature\", \"tenderness\", \"test\", \"test\", \"test\", \"tester\", \"tho\", \"time\", \"time\", \"time\", \"top\", \"top\", \"track\", \"tracking\", \"trigger\", \"trigger\", \"ttc\", \"ttc\", \"ttc\", \"tweaked\", \"uncomfortable\", \"urine\", \"urine\", \"urine\", \"vein\", \"visible\", \"visible\", \"vitro\", \"wednesday\", \"week\", \"week\", \"week\", \"weird\", \"weird\", \"weird\", \"wet\", \"wipe\", \"wipe\", \"wiped\", \"wiped\", \"wiping\", \"wiping\", \"wore\", \"yesterday\", \"yesterday\", \"yesterday\"]}, \"R\": 30, \"lambda.step\": 0.01, \"plot.opts\": {\"xlab\": \"PC1\", \"ylab\": \"PC2\"}, \"topic.order\": [1, 2, 3]};\n",
       "\n",
       "function LDAvis_load_lib(url, callback){\n",
       "  var s = document.createElement('script');\n",
       "  s.src = url;\n",
       "  s.async = true;\n",
       "  s.onreadystatechange = s.onload = callback;\n",
       "  s.onerror = function(){console.warn(\"failed to load library \" + url);};\n",
       "  document.getElementsByTagName(\"head\")[0].appendChild(s);\n",
       "}\n",
       "\n",
       "if(typeof(LDAvis) !== \"undefined\"){\n",
       "   // already loaded: just create the visualization\n",
       "   !function(LDAvis){\n",
       "       new LDAvis(\"#\" + \"ldavis_el45206140231444243392440841945\", ldavis_el45206140231444243392440841945_data);\n",
       "   }(LDAvis);\n",
       "}else if(typeof define === \"function\" && define.amd){\n",
       "   // require.js is available: use it to load d3/LDAvis\n",
       "   require.config({paths: {d3: \"https://cdnjs.cloudflare.com/ajax/libs/d3/3.5.5/d3.min\"}});\n",
       "   require([\"d3\"], function(d3){\n",
       "      window.d3 = d3;\n",
       "      LDAvis_load_lib(\"https://cdn.rawgit.com/bmabey/pyLDAvis/files/ldavis.v1.0.0.js\", function(){\n",
       "        new LDAvis(\"#\" + \"ldavis_el45206140231444243392440841945\", ldavis_el45206140231444243392440841945_data);\n",
       "      });\n",
       "    });\n",
       "}else{\n",
       "    // require.js not available: dynamically load d3 & LDAvis\n",
       "    LDAvis_load_lib(\"https://cdnjs.cloudflare.com/ajax/libs/d3/3.5.5/d3.min.js\", function(){\n",
       "         LDAvis_load_lib(\"https://cdn.rawgit.com/bmabey/pyLDAvis/files/ldavis.v1.0.0.js\", function(){\n",
       "                 new LDAvis(\"#\" + \"ldavis_el45206140231444243392440841945\", ldavis_el45206140231444243392440841945_data);\n",
       "            })\n",
       "         });\n",
       "}\n",
       "</script>"
      ],
      "text/plain": [
       "<IPython.core.display.HTML object>"
      ]
     },
     "execution_count": 16,
     "metadata": {},
     "output_type": "execute_result"
    }
   ],
   "source": [
    "visible(corpus,3,799)"
   ]
  },
  {
   "cell_type": "raw",
   "metadata": {},
   "source": [
    "#这段代码用来计算跑一个模型需花费的时间\n",
    "from gensim.models.ldamodel import LdaModel\n",
    "%time ldamodel = LdaModel(corpus, id2word = dictionary, num_topics = 3, passes = 100)"
   ]
  },
  {
   "cell_type": "code",
   "execution_count": 17,
   "metadata": {},
   "outputs": [],
   "source": [
    "#输出话题为3的关键词及概率分布\n",
    "model_name = './lda_ttc_q_20/lda_{}_{}.model'.format(3, 799)\n",
    "lda = models.ldamodel.LdaModel.load(model_name)\n",
    "topic_table = pd.DataFrame(lda.show_topics(), columns=['Topic Number','KTG'])"
   ]
  },
  {
   "cell_type": "code",
   "execution_count": 18,
   "metadata": {},
   "outputs": [],
   "source": [
    "def clean_topic_table(LDA_Model,top_terms):\n",
    "\n",
    "    complete = []\n",
    "    KTG_list = []\n",
    "\n",
    "    list_of_topics = [i for i in range(0,LDA_Model.num_topics)]\n",
    "\n",
    "    for i in range (0, LDA_Model.num_topics):\n",
    "        clean_KTG = \", \".join([word for word, prop in LDA_Model.show_topic(i,topn=top_terms)])\n",
    "        KTG_list.append(clean_KTG)\n",
    "\n",
    "    final_list = list(zip(list_of_topics,KTG_list))\n",
    "    return pd.DataFrame(final_list, columns=['Topic Number','KTG'])"
   ]
  },
  {
   "cell_type": "code",
   "execution_count": 20,
   "metadata": {},
   "outputs": [],
   "source": [
    "KTG_List = clean_topic_table(lda,40)\n",
    "KTG_List.to_csv('lda_ttc_q_3.csv')"
   ]
  },
  {
   "cell_type": "code",
   "execution_count": null,
   "metadata": {},
   "outputs": [],
   "source": []
  }
 ],
 "metadata": {
  "kernelspec": {
   "display_name": "Python 3",
   "language": "python",
   "name": "python3"
  },
  "language_info": {
   "codemirror_mode": {
    "name": "ipython",
    "version": 3
   },
   "file_extension": ".py",
   "mimetype": "text/x-python",
   "name": "python",
   "nbconvert_exporter": "python",
   "pygments_lexer": "ipython3",
   "version": "3.8.3"
  }
 },
 "nbformat": 4,
 "nbformat_minor": 4
}
